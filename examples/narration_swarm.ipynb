{
  "cells": [
    {
      "cell_type": "markdown",
      "id": "7fb27b941602401d91542211134fc71a",
      "metadata": {},
      "source": [
        "# Narration Swarm Tutorial (Mock Provider)\n\n",
        "This notebook demonstrates the `zyra narrate swarm` flow using the mock provider for offline, reproducible runs.\n\n",
        "- List presets\n",
        "- Run a preset and write a Narrative Pack (YAML/JSON)\n",
        "- Validate with the Pydantic model and inspect provenance\n"
      ]
    },
    {
      "cell_type": "markdown",
      "id": "acae54e37e7d407bbb7b55eff062a284",
      "metadata": {},
      "source": [
        "## Prerequisites\n\n",
        "Install Zyra in your environment (with dev optional if running tests):\n\n",
        "```bash\n",
        "poetry install --with dev\n",
        "```\n\n",
        "Optional extras for connectors/processing/visualization are not required for this tutorial."
      ]
    },
    {
      "cell_type": "code",
      "execution_count": null,
      "id": "9a63283cbaf04dbcab1f6479b197f3a8",
      "metadata": {},
      "outputs": [],
      "source": [
        "# List presets available in the package (same as: `zyra narrate swarm -P help`)\n",
        "from importlib import resources as ir\n",
        "\n",
        "base = ir.files(\"zyra.assets\").joinpath(\"llm/presets/narrate\")\n",
        "with ir.as_file(base) as p:\n",
        "    print(\"Presets:\", [n.stem for n in p.iterdir() if n.suffix in (\".yaml\", \".yml\")])"
      ]
    },
    {
      "cell_type": "code",
      "execution_count": null,
      "id": "8dd0d8092fe74a7c96281538738b07e2",
      "metadata": {},
      "outputs": [],
      "source": [
        "# Run the swarm via Python by calling the CLI entry directly\n",
        "from zyra.cli import main\n",
        "\n",
        "# Emit YAML to stdout (returned via print here in Jupyter)\n",
        "rc = main(\n",
        "    [\"narrate\", \"swarm\", \"-P\", \"kids_policy_basic\", \"--provider\", \"mock\", \"--pack\", \"-\"]\n",
        ")\n",
        "print(\"exit code =\", rc)"
      ]
    },
    {
      "cell_type": "code",
      "execution_count": null,
      "id": "72eea5119410473aa328ad9291626812",
      "metadata": {},
      "outputs": [],
      "source": [
        "# Validate a minimal Narrative Pack with Pydantic\n",
        "from zyra.narrate.schemas import NarrativePack\n",
        "\n",
        "pack_dict = {\n",
        "    \"version\": 0,\n",
        "    \"inputs\": {\"audiences\": [\"kids\"], \"style\": \"journalistic\"},\n",
        "    \"models\": {\"provider\": \"mock\", \"model\": \"placeholder\"},\n",
        "    \"status\": {\"completed\": True, \"failed_agents\": []},\n",
        "    \"outputs\": {\"summary\": \"...\", \"kids_version\": \"...\"},\n",
        "    \"reviews\": {},\n",
        "    \"errors\": [],\n",
        "    \"provenance\": [],\n",
        "}\n",
        "pack = NarrativePack.model_validate(pack_dict)\n",
        "print(\"Validated NarrativePack v\", pack.version)"
      ]
    },
    {
      "cell_type": "code",
      "execution_count": null,
      "id": "8edb47106e1a46a883d545849b8ab81b",
      "metadata": {},
      "outputs": [],
      "source": [
        "# Export JSON Schema for automation\n",
        "import json\n",
        "\n",
        "from zyra.narrate.schemas import NarrativePack\n",
        "\n",
        "schema = NarrativePack.model_json_schema()\n",
        "print(json.dumps(list(schema.keys())[:5], indent=2))  # peek at top-level keys"
      ]
    }
  ],
  "metadata": {
    "kernelspec": {
      "display_name": "Python 3",
      "language": "python",
      "name": "python3"
    },
    "language_info": {
      "name": "python",
      "version": "3"
    }
  },
  "nbformat": 4,
  "nbformat_minor": 5
}